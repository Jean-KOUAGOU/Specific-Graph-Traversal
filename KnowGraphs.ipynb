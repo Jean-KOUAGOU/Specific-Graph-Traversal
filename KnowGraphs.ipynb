{
 "cells": [
  {
   "cell_type": "code",
   "execution_count": 1,
   "metadata": {},
   "outputs": [],
   "source": [
    "import numpy as np"
   ]
  },
  {
   "cell_type": "code",
   "execution_count": 14,
   "metadata": {},
   "outputs": [],
   "source": [
    "def graph(filename):\n",
    "    f=open(filename, \"r\")\n",
    "    g1 = f.read()\n",
    "    f.close()\n",
    "    number_of_nodes = int(g1.split(\"\\n\")[0])  # get the first number in the file \n",
    "    g1 = g1.split(\"\\n\")[1:]\n",
    "    g = {}\n",
    "    for i in range(len(g1)):\n",
    "        if g1[i] != \"\":\n",
    "            key, value = g1[i].split(\"->\")\n",
    "            key = int(key)\n",
    "            value = int(value)\n",
    "            if key in g.keys():\n",
    "                g[key].append(value)\n",
    "            else:\n",
    "                g[key] = [value]   \n",
    "    return number_of_nodes, g"
   ]
  },
  {
   "cell_type": "code",
   "execution_count": 16,
   "metadata": {},
   "outputs": [
    {
     "data": {
      "text/plain": [
       "(6, {0: [1], 1: [5], 3: [2, 4], 5: [0]})"
      ]
     },
     "execution_count": 16,
     "metadata": {},
     "output_type": "execute_result"
    }
   ],
   "source": [
    "G1 = graph(\"g1.txt\")\n",
    "G1"
   ]
  },
  {
   "cell_type": "code",
   "execution_count": 17,
   "metadata": {},
   "outputs": [],
   "source": [
    "G2 =graph(\"g2.txt\")"
   ]
  },
  {
   "cell_type": "code",
   "execution_count": 18,
   "metadata": {},
   "outputs": [],
   "source": [
    "G3 = graph(\"g3.txt\")"
   ]
  },
  {
   "cell_type": "code",
   "execution_count": 15,
   "metadata": {},
   "outputs": [],
   "source": [
    "def update_reachable_nodes(List_nodes, G):\n",
    "    L = List_nodes[:]\n",
    "    while True:\n",
    "        L1 = List_nodes[:]\n",
    "        New_nodes = []\n",
    "        for node in L:\n",
    "            if node in G[1].keys():\n",
    "                New_nodes.extend(G[1][node])\n",
    "                List_nodes.extend(G[1][node]) \n",
    "        List_nodes = list(set(List_nodes))\n",
    "        New_nodes = list(set(New_nodes)-set(L1))\n",
    "        L = New_nodes[:]\n",
    "        if all([l not in G[1].keys() for l in L]):\n",
    "            break\n",
    "    return List_nodes\n",
    "\n",
    "\n",
    "def Exploration_starting_nodes(G):\n",
    "    assert isinstance(G[1], dict) and isinstance(G[0], int) and G[0]>0\n",
    "    Size_of_the_graph = G[0]\n",
    "    Key_starting_nodes = list(set(range(Size_of_the_graph))-set(np.sum(list(G[1].values()))))[:]\n",
    "    current_reachable_nodes = Key_starting_nodes[:]\n",
    "    #Update current reachable nodes\n",
    "    current_reachable_nodes = update_reachable_nodes(current_reachable_nodes, G)\n",
    "    for node in G[1].keys():\n",
    "        if node not in current_reachable_nodes:\n",
    "            Key_starting_nodes.append(node)\n",
    "            current_reachable_nodes.extend(update_reachable_nodes([node], G))\n",
    "        if len(current_reachable_nodes) == Size_of_the_graph:\n",
    "            break\n",
    "    return Key_starting_nodes\n",
    "            "
   ]
  },
  {
   "cell_type": "code",
   "execution_count": 11,
   "metadata": {},
   "outputs": [],
   "source": [
    "import time"
   ]
  },
  {
   "cell_type": "code",
   "execution_count": 13,
   "metadata": {},
   "outputs": [
    {
     "name": "stdout",
     "output_type": "stream",
     "text": [
      "[4, 133, 134, 8, 139, 14, 143, 16, 17, 144, 145, 146, 152, 27, 29, 34, 36, 164, 38, 166, 40, 168, 169, 171, 172, 173, 48, 49, 177, 51, 52, 178, 182, 55, 57, 61, 193, 195, 68, 73, 74, 77, 88, 91, 97, 98, 120, 121]\n",
      "0.0006731819594278932\n"
     ]
    }
   ],
   "source": [
    "t1=time.perf_counter()\n",
    "print(Exploration_starting_nodes(G2))\n",
    "t2=time.perf_counter()\n",
    "print(t2-t1)"
   ]
  },
  {
   "cell_type": "code",
   "execution_count": 19,
   "metadata": {},
   "outputs": [
    {
     "data": {
      "text/plain": [
       "[3, 0]"
      ]
     },
     "execution_count": 19,
     "metadata": {},
     "output_type": "execute_result"
    }
   ],
   "source": [
    "Exploration_starting_nodes(G1)"
   ]
  },
  {
   "cell_type": "code",
   "execution_count": 20,
   "metadata": {},
   "outputs": [
    {
     "data": {
      "text/plain": [
       "[4,\n",
       " 133,\n",
       " 134,\n",
       " 8,\n",
       " 139,\n",
       " 14,\n",
       " 143,\n",
       " 16,\n",
       " 17,\n",
       " 144,\n",
       " 145,\n",
       " 146,\n",
       " 152,\n",
       " 27,\n",
       " 29,\n",
       " 34,\n",
       " 36,\n",
       " 164,\n",
       " 38,\n",
       " 166,\n",
       " 40,\n",
       " 168,\n",
       " 169,\n",
       " 171,\n",
       " 172,\n",
       " 173,\n",
       " 48,\n",
       " 49,\n",
       " 177,\n",
       " 51,\n",
       " 52,\n",
       " 178,\n",
       " 182,\n",
       " 55,\n",
       " 57,\n",
       " 61,\n",
       " 193,\n",
       " 195,\n",
       " 68,\n",
       " 73,\n",
       " 74,\n",
       " 77,\n",
       " 88,\n",
       " 91,\n",
       " 97,\n",
       " 98,\n",
       " 120,\n",
       " 121]"
      ]
     },
     "execution_count": 20,
     "metadata": {},
     "output_type": "execute_result"
    }
   ],
   "source": [
    "Exploration_starting_nodes(G2)"
   ]
  },
  {
   "cell_type": "code",
   "execution_count": 21,
   "metadata": {},
   "outputs": [
    {
     "data": {
      "text/plain": [
       "[0]"
      ]
     },
     "execution_count": 21,
     "metadata": {},
     "output_type": "execute_result"
    }
   ],
   "source": [
    "Exploration_starting_nodes(G3)"
   ]
  },
  {
   "cell_type": "code",
   "execution_count": null,
   "metadata": {},
   "outputs": [],
   "source": []
  }
 ],
 "metadata": {
  "kernelspec": {
   "display_name": "Python 3",
   "language": "python",
   "name": "python3"
  },
  "language_info": {
   "codemirror_mode": {
    "name": "ipython",
    "version": 3
   },
   "file_extension": ".py",
   "mimetype": "text/x-python",
   "name": "python",
   "nbconvert_exporter": "python",
   "pygments_lexer": "ipython3",
   "version": "3.7.6"
  }
 },
 "nbformat": 4,
 "nbformat_minor": 4
}
